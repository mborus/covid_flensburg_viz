{
 "cells": [
  {
   "cell_type": "markdown",
   "metadata": {},
   "source": [
    "## Visualisierung der Aktuellen Lagemeldungen Flensburg\n",
    "\n",
    "Dieses Notebook lädt die Seite der Aktuellen Lagemeldungen der Stadt Flensburg und \n",
    "stellt die Daten grafisch da.\n",
    "\n",
    "Da sich der Aufbau der Seite und der verwendeten Textbausteite jederzeit ändern kann, \n",
    "muss das Skipt dann angepasst werden\n",
    "\n",
    "Hinweis: Infiziert wird aus Total - Genesen - Verstorben errechnet, anstelle die Zahl aus dem Fliesstext zu nehmen\n",
    "\n",
    "Stand 06.02.2020"
   ]
  },
  {
   "cell_type": "code",
   "execution_count": null,
   "metadata": {},
   "outputs": [],
   "source": [
    "import re\n",
    "import requests\n",
    "import pandas as pd\n",
    "import matplotlib.pyplot as plt\n",
    "import datetime\n",
    "\n",
    "from io import StringIO\n",
    "from html.parser import HTMLParser\n"
   ]
  },
  {
   "cell_type": "code",
   "execution_count": null,
   "metadata": {},
   "outputs": [],
   "source": [
    "CORONA_URL = 'https://www.flensburg.de/Aktuelles/Corona-Portal/Aktuelle-Lagemeldungen'"
   ]
  },
  {
   "cell_type": "code",
   "execution_count": null,
   "metadata": {},
   "outputs": [],
   "source": [
    "MATCHER_DATE = re.compile('<h2.{1,200}(\\d{2}\\.\\d{2}\\.2\\d).{0,10}<.h2>')\n",
    "\n",
    "MATCHER_POSITIVE_GESAMT = [re.compile(m, re.IGNORECASE) \n",
    "                           for m in ['Positive gesamt:.*?(\\d{1,6})\\D',\n",
    "                                     '(\\d{1,6}).{1,20}nachweislich Infizierte']]\n",
    "\n",
    "MATCHER_GENESEN = [re.compile(m, re.IGNORECASE) \n",
    "                   for m in ['genesen:\\D*(\\d{1,6})\\D',\n",
    "                             '\\s(\\d{1,6})\\D*genesen']]\n",
    "\n",
    "MATCHER_VERSTORBEN = [re.compile(m, re.IGNORECASE) \n",
    "                      for m in ['verstorben:\\D{1,10}(\\d{1,6})\\D', \n",
    "                                '(\\d{1,6})\\sVerstorben']]\n",
    " "
   ]
  },
  {
   "cell_type": "code",
   "execution_count": null,
   "metadata": {},
   "outputs": [],
   "source": [
    "def strip_tags(html):\n",
    "    \"\"\"remove all html tags. Via # https://stackoverflow.com/questions/753052/strip-html-from-strings-in-python#925630\"\"\"\n",
    "    \n",
    "    class MLStripper(HTMLParser):\n",
    "        def __init__(self):\n",
    "            super().__init__()\n",
    "            self.reset()\n",
    "            self.strict = False\n",
    "            self.convert_charrefs= True\n",
    "            self.text = StringIO()\n",
    "        def handle_data(self, d):\n",
    "            self.text.write(d)\n",
    "        def get_data(self):\n",
    "            return self.text.getvalue()\n",
    "\n",
    "    s = MLStripper()\n",
    "    s.feed(html)\n",
    "    return s.get_data()"
   ]
  },
  {
   "cell_type": "code",
   "execution_count": null,
   "metadata": {},
   "outputs": [],
   "source": [
    "def split_page(page):\n",
    "    \"\"\"splits the page into date parts\"\"\"\n",
    "    page_part = []\n",
    "    date = None\n",
    "    for line in page:\n",
    "        m = MATCHER_DATE.search(line):\n",
    "        if m:    \n",
    "            if date:\n",
    "                yield date, '\\n'.join(page_part)\n",
    "            page_part = []\n",
    "            date = m.group(1)\n",
    "        else:\n",
    "            page_part.append(line)\n",
    "            \n",
    "    if date and page_part:\n",
    "        yield date, '\\n'.join(page_part)\n"
   ]
  },
  {
   "cell_type": "code",
   "execution_count": null,
   "metadata": {},
   "outputs": [],
   "source": [
    "def parse_part(datestring, part):\n",
    "    \"\"\"parses a date part for match values\"\"\"\n",
    "    search_part = strip_tags(part)\n",
    "    positive_gesamt = None\n",
    "    genesen = None\n",
    "    verstorben = None\n",
    "    for _matcher in MATCHER_POSITIVE_GESAMT:\n",
    "        m = _matcher.search(search_part):\n",
    "        if m:    \n",
    "            positive_gesamt = int(m.group(1))\n",
    "            break\n",
    "    for _matcher in MATCHER_GENESEN:\n",
    "        m = _matcher.search(search_part):\n",
    "        if m: \n",
    "            genesen = int(m.group(1))\n",
    "            break\n",
    "    for _matcher in MATCHER_VERSTORBEN:\n",
    "        m = _matcher.search(search_part):\n",
    "        if m: \n",
    "            verstorben = int(m.group(1))\n",
    "            break\n",
    "            \n",
    "    return datetime.datetime.strptime(datestring, '%d.%m.%y'), positive_gesamt, genesen, verstorben\n",
    "    \n",
    "    "
   ]
  },
  {
   "cell_type": "code",
   "execution_count": null,
   "metadata": {},
   "outputs": [],
   "source": [
    "r = requests.get(CORONA_URL)\n",
    "page = r.text.splitlines()"
   ]
  },
  {
   "cell_type": "code",
   "execution_count": null,
   "metadata": {},
   "outputs": [],
   "source": [
    "df = pd.DataFrame([parse_part(d, a) for d, a in split_page(page)]).dropna(subset=[1])"
   ]
  },
  {
   "cell_type": "code",
   "execution_count": null,
   "metadata": {},
   "outputs": [],
   "source": [
    "df.columns = 'Date', 'Total', 'Genesen', 'Verstorben'"
   ]
  },
  {
   "cell_type": "code",
   "execution_count": null,
   "metadata": {},
   "outputs": [],
   "source": [
    "df['Infiziert'] = df['Total'] - df['Genesen'] - df['Verstorben']"
   ]
  },
  {
   "cell_type": "code",
   "execution_count": null,
   "metadata": {},
   "outputs": [],
   "source": [
    "df[df.Date > '2020-11-01'].set_index('Date').resample('D').mean().plot(figsize=(9, 9), title='COVID-Fallzahlen nach Auskunft der Stadt Flensburg');"
   ]
  },
  {
   "cell_type": "code",
   "execution_count": null,
   "metadata": {},
   "outputs": [],
   "source": [
    "df[df.Date > '2020-11-11'].set_index('Date')"
   ]
  },
  {
   "cell_type": "code",
   "execution_count": null,
   "metadata": {},
   "outputs": [],
   "source": [
    "df2 = df[df.Date > '2020-10-01'].set_index('Date').resample('D').mean()"
   ]
  },
  {
   "cell_type": "code",
   "execution_count": null,
   "metadata": {},
   "outputs": [],
   "source": [
    "df2['Verstorben'].plot(figsize=(9, 9), color='green', title='Verstorbene COVID Stadt Flensburg');"
   ]
  },
  {
   "cell_type": "code",
   "execution_count": null,
   "metadata": {},
   "outputs": [],
   "source": [
    "# Vergleich der Werte mit den Werten von vor 7 Tagen\n",
    "dft = df[df.Date > '2020-10-01'].set_index('Date').resample('D').mean()\n",
    "dft2 = pd.concat([dft.copy(), dft.shift(7).copy()], axis= 1).copy().fillna(0)\n",
    "dft2.columns = 'T1', 'G1', 'V1', 'I1','T2', 'G2', 'V2', 'I2'\n",
    "dft2['Total'] = dft2['T1'] - dft2['T2']\n",
    "dft2['Genesen'] = dft2['G1'] - dft2['G2']\n",
    "dft2['Verstorben'] = dft2['V1'] - dft2['V2']\n",
    "dft2['Infiziert'] = dft2['I1'] - dft2['I2']"
   ]
  },
  {
   "cell_type": "code",
   "execution_count": null,
   "metadata": {
    "tags": [
     "deaths"
    ]
   },
   "outputs": [],
   "source": [
    "dft2[dft2.index >= '2020-11-01'][['Total','Genesen','Verstorben','Infiziert']].plot(figsize=(9, 9), title='7 Tage Änderung COVID Stadt Flensburg');"
   ]
  },
  {
   "cell_type": "code",
   "execution_count": null,
   "metadata": {},
   "outputs": [],
   "source": [
    "dft2[dft2.index >= '2020-11-01'][['Verstorben']].plot(figsize=(9, 9), color='green', title='7 Tage Änderung Verstorbene durch COVID Stadt Flensburg');"
   ]
  },
  {
   "cell_type": "code",
   "execution_count": null,
   "metadata": {},
   "outputs": [],
   "source": [
    "x = 8\n",
    "(df.iloc[0+x].Total - df.iloc[7+x].Total) / 0.90164"
   ]
  },
  {
   "cell_type": "code",
   "execution_count": null,
   "metadata": {},
   "outputs": [],
   "source": [
    "df.iloc[8]"
   ]
  },
  {
   "cell_type": "code",
   "execution_count": null,
   "metadata": {},
   "outputs": [],
   "source": [
    "from collections import defaultdict"
   ]
  },
  {
   "cell_type": "code",
   "execution_count": null,
   "metadata": {},
   "outputs": [],
   "source": [
    "d = defaultdict(list)"
   ]
  },
  {
   "cell_type": "code",
   "execution_count": null,
   "metadata": {},
   "outputs": [],
   "source": []
  }
 ],
 "metadata": {
  "kernelspec": {
   "display_name": "Python 3",
   "language": "python",
   "name": "python3"
  },
  "language_info": {
   "codemirror_mode": {
    "name": "ipython",
    "version": 3
   },
   "file_extension": ".py",
   "mimetype": "text/x-python",
   "name": "python",
   "nbconvert_exporter": "python",
   "pygments_lexer": "ipython3",
   "version": "3.8.5"
  }
 },
 "nbformat": 4,
 "nbformat_minor": 4
}
